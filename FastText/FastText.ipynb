{
 "cells": [
  {
   "cell_type": "code",
   "execution_count": 1,
   "metadata": {
    "collapsed": true,
    "ExecuteTime": {
     "start_time": "2023-06-05T16:59:27.715207Z",
     "end_time": "2023-06-05T16:59:29.925745Z"
    }
   },
   "outputs": [],
   "source": [
    "import torch\n",
    "from torch.autograd._functions import tensor\n",
    "import torch.nn as nn\n",
    "import torch.nn.functional as F"
   ]
  },
  {
   "cell_type": "code",
   "execution_count": 2,
   "outputs": [],
   "source": [
    "class fasttext(nn.Module):\n",
    "    def __init__(self, vocab_size, twoGrams_size, threeGrams_size, embed_size, hidden_size, output_size,\n",
    "                 embedding_pretrained=None):\n",
    "        super(fasttext, self).__init__()\n",
    "        if embedding_pretrained is None:\n",
    "            self.embedding_word = nn.Embedding(vocab_size, embed_size)\n",
    "        else:\n",
    "            self.embedding_word = nn.Embedding.from_pretrained(embedding_pretrained, freeze=False)\n",
    "\n",
    "        self.embedding_2gram = nn.Embedding(twoGrams_size, embed_size)\n",
    "        self.embedding_3gram = nn.Embedding(threeGrams_size, embed_size)\n",
    "        self.dropout = nn.Dropout(p=0.5)\n",
    "\n",
    "        self.hidden = nn.Linear(embed_size, hidden_size)\n",
    "\n",
    "        self.output = nn.Linear(hidden_size, output_size)\n",
    "\n",
    "    def forward(self, x):\n",
    "        e_word = self.embedding_word(x[0])\n",
    "        e_2gram = self.embedding_2gram(x[1])\n",
    "        e_3gram = self.embedding_3gram(x[2])\n",
    "        e_cat = torch.cat((e_word, e_2gram, e_3gram), dim=1)\n",
    "        e_avg = e_cat.mean(dim=1)\n",
    "        h = self.hidden(self.dropout(e_avg))\n",
    "        o = F.softmax(self.output(h))\n",
    "        return o, {\n",
    "            \"embedding_word\": e_word,\n",
    "            \"embedding_2gram\": e_2gram,\n",
    "            \"embedding_3gram\": e_3gram,\n",
    "            \"e_cat\": e_cat,\n",
    "            \"e_avg\": e_avg,\n",
    "            \"hidden\": h\n",
    "        }"
   ],
   "metadata": {
    "collapsed": false,
    "ExecuteTime": {
     "start_time": "2023-06-05T17:11:52.960418Z",
     "end_time": "2023-06-05T17:11:52.990116Z"
    }
   }
  },
  {
   "cell_type": "code",
   "execution_count": 3,
   "outputs": [],
   "source": [
    "vocab_size = 10\n",
    "twoGrams_size = 20\n",
    "threeGrams_size = 30\n",
    "embed_size = 128\n",
    "hidden_size = 256\n",
    "output_size = 16\n",
    "ft = fasttext(vocab_size, twoGrams_size, threeGrams_size, embed_size, hidden_size, output_size)"
   ],
   "metadata": {
    "collapsed": false,
    "ExecuteTime": {
     "start_time": "2023-06-05T17:12:40.287585Z",
     "end_time": "2023-06-05T17:12:40.343214Z"
    }
   }
  },
  {
   "cell_type": "code",
   "execution_count": 4,
   "outputs": [
    {
     "name": "stdout",
     "output_type": "stream",
     "text": [
      "embedding_word: torch.Size([1, 5, 128])\n",
      "embedding_2gram: torch.Size([1, 4, 128])\n",
      "embedding_3gram: torch.Size([1, 3, 128])\n",
      "e_cat: torch.Size([1, 12, 128])\n",
      "e_avg: torch.Size([1, 128])\n",
      "hidden: torch.Size([1, 256])\n",
      "output torch.Size([1, 16])\n"
     ]
    },
    {
     "name": "stderr",
     "output_type": "stream",
     "text": [
      "C:\\Users\\25338\\AppData\\Local\\Temp\\ipykernel_12820\\478165016.py:25: UserWarning: Implicit dimension choice for softmax has been deprecated. Change the call to include dim=X as an argument.\n",
      "  o = F.softmax(self.output(h))\n"
     ]
    }
   ],
   "source": [
    "x_0 = torch.LongTensor([[1, 2, 3, 3, 5]])  #batch_size = 1, seq_len = 5\n",
    "x_1 = torch.LongTensor([[1, 2, 3, 4]])  #batch_size =1, seq_len = 4\n",
    "x_2 = torch.LongTensor([[1, 2, 3]])  #batch_size=1, seq_len=3\n",
    "x = (x_0, x_1, x_2)\n",
    "output, tmp = ft(x)\n",
    "print(\"embedding_word:\", tmp[\"embedding_word\"].size())\n",
    "print(\"embedding_2gram:\", tmp[\"embedding_2gram\"].size())\n",
    "print(\"embedding_3gram:\", tmp[\"embedding_3gram\"].size())\n",
    "print(\"e_cat:\", tmp[\"e_cat\"].size())\n",
    "print(\"e_avg:\", tmp[\"e_avg\"].size())\n",
    "print(\"hidden:\", tmp[\"hidden\"].size())\n",
    "print(\"output\", output.size())"
   ],
   "metadata": {
    "collapsed": false,
    "ExecuteTime": {
     "start_time": "2023-06-05T17:13:20.495661Z",
     "end_time": "2023-06-05T17:13:20.563006Z"
    }
   }
  },
  {
   "cell_type": "code",
   "execution_count": null,
   "outputs": [],
   "source": [],
   "metadata": {
    "collapsed": false
   }
  }
 ],
 "metadata": {
  "kernelspec": {
   "display_name": "Python 3",
   "language": "python",
   "name": "python3"
  },
  "language_info": {
   "codemirror_mode": {
    "name": "ipython",
    "version": 2
   },
   "file_extension": ".py",
   "mimetype": "text/x-python",
   "name": "python",
   "nbconvert_exporter": "python",
   "pygments_lexer": "ipython2",
   "version": "2.7.6"
  }
 },
 "nbformat": 4,
 "nbformat_minor": 0
}
