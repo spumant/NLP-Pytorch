{
 "cells": [
  {
   "cell_type": "code",
   "execution_count": 1,
   "metadata": {
    "collapsed": true,
    "ExecuteTime": {
     "start_time": "2023-06-02T23:15:02.932764Z",
     "end_time": "2023-06-02T23:15:07.870309Z"
    }
   },
   "outputs": [],
   "source": [
    "import torch\n",
    "import numpy as np\n",
    "import torch.nn as nn\n",
    "import torch.optim as optimizer\n",
    "import torch.utils.data as Data\n",
    "\n",
    "device = torch.device('cuda' if torch.cuda.is_available() else 'cpu')\n",
    "dtype = torch.FloatTensor"
   ]
  },
  {
   "cell_type": "code",
   "execution_count": 2,
   "outputs": [],
   "source": [
    "sentences = [\"jack like dog\", \"jack like cat\", \"jack like animal\",\n",
    "             \"dog cat animal\", \"banana apple cat dog like\", \"dog fish milk like\",\n",
    "             \"dog cat animal like\", \"jack like apple\", \"apple like\", \"jack like banana\",\n",
    "             \"apple banana jack movie book music like\", \"cat dog hate\", \"cat dog like\"]\n",
    "\n",
    "sentence_list = \" \".join(sentences).split()\n",
    "vocab = list(set(sentence_list))\n",
    "word2idx = {w: i for i, w in enumerate(vocab)}\n",
    "vocab_size = len(vocab)"
   ],
   "metadata": {
    "collapsed": false,
    "ExecuteTime": {
     "start_time": "2023-06-02T23:15:07.870309Z",
     "end_time": "2023-06-02T23:15:07.885361Z"
    }
   }
  },
  {
   "cell_type": "code",
   "execution_count": 3,
   "outputs": [],
   "source": [
    "C = 2  # window size\n",
    "batch_size = 8\n",
    "m = 2  # word embedding dim"
   ],
   "metadata": {
    "collapsed": false,
    "ExecuteTime": {
     "start_time": "2023-06-02T23:15:07.889439Z",
     "end_time": "2023-06-02T23:15:07.928387Z"
    }
   }
  },
  {
   "cell_type": "code",
   "execution_count": 4,
   "outputs": [],
   "source": [
    "skip_grams = []\n",
    "for idx in range(C, len(sentence_list) - C):\n",
    "    center = word2idx[sentence_list[idx]]\n",
    "    content_idx = list(range(idx - C, idx)) + list(range(idx + 1, idx + C + 1))\n",
    "    context = [word2idx[sentence_list[i]] for i in content_idx]\n",
    "\n",
    "    for w in context:\n",
    "        skip_grams.append([center, w])"
   ],
   "metadata": {
    "collapsed": false,
    "ExecuteTime": {
     "start_time": "2023-06-02T23:15:07.906229Z",
     "end_time": "2023-06-02T23:15:07.929357Z"
    }
   }
  },
  {
   "cell_type": "code",
   "execution_count": 5,
   "outputs": [
    {
     "data": {
      "text/plain": "168"
     },
     "execution_count": 5,
     "metadata": {},
     "output_type": "execute_result"
    }
   ],
   "source": [
    "len(skip_grams)"
   ],
   "metadata": {
    "collapsed": false,
    "ExecuteTime": {
     "start_time": "2023-06-02T23:15:07.923840Z",
     "end_time": "2023-06-02T23:15:07.942133Z"
    }
   }
  },
  {
   "cell_type": "code",
   "execution_count": 6,
   "outputs": [],
   "source": [
    "def make_data(skip_grams):\n",
    "    input_data = []\n",
    "    output_data = []\n",
    "    for a, b in skip_grams:\n",
    "        input_data.append(np.eye(vocab_size)[a])\n",
    "        output_data.append(b)\n",
    "    return input_data, output_data"
   ],
   "metadata": {
    "collapsed": false,
    "ExecuteTime": {
     "start_time": "2023-06-02T23:16:44.297162Z",
     "end_time": "2023-06-02T23:16:44.375371Z"
    }
   }
  },
  {
   "cell_type": "code",
   "execution_count": 7,
   "outputs": [
    {
     "name": "stderr",
     "output_type": "stream",
     "text": [
      "C:\\Users\\25338\\AppData\\Local\\Temp\\ipykernel_20184\\1109327943.py:2: UserWarning: Creating a tensor from a list of numpy.ndarrays is extremely slow. Please consider converting the list to a single numpy.ndarray with numpy.array() before converting to a tensor. (Triggered internally at C:\\actions-runner\\_work\\pytorch\\pytorch\\builder\\windows\\pytorch\\torch\\csrc\\utils\\tensor_new.cpp:248.)\n",
      "  input_data, output_data = torch.Tensor(input_data), torch.LongTensor(output_data)\n"
     ]
    }
   ],
   "source": [
    "input_data, output_data = make_data(skip_grams)\n",
    "input_data, output_data = torch.Tensor(input_data), torch.LongTensor(output_data)\n",
    "dataset = Data.TensorDataset(input_data, output_data)\n",
    "loader = Data.DataLoader(dataset, batch_size, True)"
   ],
   "metadata": {
    "collapsed": false,
    "ExecuteTime": {
     "start_time": "2023-06-02T23:19:06.848831Z",
     "end_time": "2023-06-02T23:19:06.925773Z"
    }
   }
  },
  {
   "cell_type": "code",
   "execution_count": 8,
   "outputs": [],
   "source": [
    "class Word2Vec(nn.Module):\n",
    "    def __init__(self):\n",
    "        super(Word2Vec, self).__init__()\n",
    "        self.W = nn.Parameter(torch.randn(vocab_size, m).type(dtype))\n",
    "        self.V = nn.Parameter(torch.randn(m, vocab_size).type(dtype))\n",
    "\n",
    "    def forward(self, X):\n",
    "        # X : [batch_size,vocab_size]\n",
    "        hidden = torch.mm(X, self.W)  # [batch_size, m]\n",
    "        output = torch.mm(hidden, self.V)  # [batch_size,vocab_size]\n",
    "        return output"
   ],
   "metadata": {
    "collapsed": false,
    "ExecuteTime": {
     "start_time": "2023-06-02T23:25:53.915250Z",
     "end_time": "2023-06-02T23:25:53.933247Z"
    }
   }
  },
  {
   "cell_type": "code",
   "execution_count": 10,
   "outputs": [],
   "source": [
    "model = Word2Vec().to(device)\n",
    "loss_fn = nn.CrossEntropyLoss().to(device)\n",
    "optim = optimizer.Adam(model.parameters(), lr=1e-3)"
   ],
   "metadata": {
    "collapsed": false,
    "ExecuteTime": {
     "start_time": "2023-06-02T23:27:24.582606Z",
     "end_time": "2023-06-02T23:27:24.593700Z"
    }
   }
  },
  {
   "cell_type": "code",
   "execution_count": 11,
   "outputs": [
    {
     "name": "stdout",
     "output_type": "stream",
     "text": [
      "1000 0 2.1575140953063965\n",
      "1000 1 1.8220446109771729\n",
      "1000 2 1.3596312999725342\n",
      "1000 3 2.0908331871032715\n",
      "1000 4 1.912578821182251\n",
      "1000 5 1.7061827182769775\n",
      "1000 6 2.125070810317993\n",
      "1000 7 2.346245765686035\n",
      "1000 8 2.2583796977996826\n",
      "1000 9 2.3224573135375977\n",
      "1000 10 1.8532360792160034\n",
      "1000 11 2.1311936378479004\n",
      "1000 12 2.231698989868164\n",
      "1000 13 2.26060152053833\n",
      "1000 14 2.049076795578003\n",
      "1000 15 2.3324406147003174\n",
      "1000 16 1.762387752532959\n",
      "1000 17 2.7796285152435303\n",
      "1000 18 1.679671287536621\n",
      "1000 19 2.4242401123046875\n",
      "1000 20 2.0947797298431396\n",
      "2000 0 2.091477632522583\n",
      "2000 1 1.9792311191558838\n",
      "2000 2 1.8047420978546143\n",
      "2000 3 2.358506679534912\n",
      "2000 4 1.9331088066101074\n",
      "2000 5 2.1083273887634277\n",
      "2000 6 2.3452746868133545\n",
      "2000 7 1.7549197673797607\n",
      "2000 8 1.9900437593460083\n",
      "2000 9 1.74790358543396\n",
      "2000 10 1.8083107471466064\n",
      "2000 11 2.217313289642334\n",
      "2000 12 1.8031166791915894\n",
      "2000 13 2.369310140609741\n",
      "2000 14 1.9081133604049683\n",
      "2000 15 2.087240695953369\n",
      "2000 16 1.9851576089859009\n",
      "2000 17 2.4637012481689453\n",
      "2000 18 2.24869441986084\n",
      "2000 19 1.931849718093872\n",
      "2000 20 2.4384090900421143\n"
     ]
    }
   ],
   "source": [
    "for epoch in range(2000):\n",
    "    for i, (batch_x, batch_y) in enumerate(loader):\n",
    "        batch_x = batch_x.to(device)\n",
    "        batch_y = batch_y.to(device)\n",
    "        pred = model(batch_x)\n",
    "        loss = loss_fn(pred, batch_y)\n",
    "\n",
    "        if (epoch + 1) % 1000 == 0:\n",
    "            print(epoch + 1, i, loss.item())\n",
    "\n",
    "        optim.zero_grad()\n",
    "        loss.backward()\n",
    "        optim.step()"
   ],
   "metadata": {
    "collapsed": false,
    "ExecuteTime": {
     "start_time": "2023-06-02T23:30:38.119176Z",
     "end_time": "2023-06-02T23:31:05.293493Z"
    }
   }
  },
  {
   "cell_type": "code",
   "execution_count": 12,
   "outputs": [
    {
     "data": {
      "text/plain": "<Figure size 640x480 with 1 Axes>",
      "image/png": "[encoded data removed]"
     },
     "metadata": {},
     "output_type": "display_data"
    }
   ],
   "source": [
    "import matplotlib.pyplot as plt\n",
    "\n",
    "for i, label in enumerate(vocab):\n",
    "    W, WT = model.parameters()\n",
    "    x, y = float(W[i][0]), float(W[i][1])\n",
    "    plt.scatter(x, y)\n",
    "    plt.annotate(label, xy=(x, y), xytext=(5, 2), textcoords='offset points', ha='right', va='bottom')\n",
    "plt.show()"
   ],
   "metadata": {
    "collapsed": false,
    "ExecuteTime": {
     "start_time": "2023-06-02T23:34:49.924030Z",
     "end_time": "2023-06-02T23:34:51.317082Z"
    }
   }
  },
  {
   "cell_type": "code",
   "execution_count": null,
   "outputs": [],
   "source": [],
   "metadata": {
    "collapsed": false
   }
  }
 ],
 "metadata": {
  "kernelspec": {
   "display_name": "Python 3",
   "language": "python",
   "name": "python3"
  },
  "language_info": {
   "codemirror_mode": {
    "name": "ipython",
    "version": 2
   },
   "file_extension": ".py",
   "mimetype": "text/x-python",
   "name": "python",
   "nbconvert_exporter": "python",
   "pygments_lexer": "ipython2",
   "version": "2.7.6"
  }
 },
 "nbformat": 4,
 "nbformat_minor": 0
}
