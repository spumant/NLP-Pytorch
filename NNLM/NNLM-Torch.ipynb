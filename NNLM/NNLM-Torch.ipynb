{
 "cells": [
  {
   "cell_type": "code",
   "execution_count": 6,
   "metadata": {
    "collapsed": true,
    "ExecuteTime": {
     "end_time": "2023-06-01T13:32:08.066249500Z",
     "start_time": "2023-06-01T13:32:08.057252800Z"
    }
   },
   "outputs": [],
   "source": [
    "import torch\n",
    "import torch.nn as nn\n",
    "import torch.optim as optimizer\n",
    "import torch.utils.data as Data\n",
    "\n",
    "dtype = torch.FloatTensor"
   ]
  },
  {
   "cell_type": "code",
   "execution_count": 3,
   "outputs": [],
   "source": [
    "sentences = ['i like cat', 'i love coffee', 'i hate milk']\n",
    "sentences_list = \" \".join(sentences).split()\n",
    "vocab = list(set(sentences_list))\n",
    "word2idx = {w: i for i, w in enumerate(vocab)}\n",
    "idx2word = {i: w for i, w in enumerate(vocab)}\n",
    "\n",
    "V = len(vocab)"
   ],
   "metadata": {
    "collapsed": false,
    "ExecuteTime": {
     "end_time": "2023-06-01T13:15:40.394285700Z",
     "start_time": "2023-06-01T13:15:40.380278200Z"
    }
   }
  },
  {
   "cell_type": "code",
   "execution_count": 4,
   "outputs": [],
   "source": [
    "def make_data(sentences):\n",
    "    input_data = []\n",
    "    target_data = []\n",
    "    for sen in sentences:\n",
    "        sen = sen.split()\n",
    "        input_tmp = [word2idx[w] for w in sen[:-1]]\n",
    "        target_tmp = word2idx[sen[-1]]\n",
    "\n",
    "        input_data.append(input_tmp)\n",
    "        target_data.append(target_tmp)\n",
    "    return input_data, target_data"
   ],
   "metadata": {
    "collapsed": false,
    "ExecuteTime": {
     "end_time": "2023-06-01T13:20:41.272697100Z",
     "start_time": "2023-06-01T13:20:41.267695200Z"
    }
   }
  },
  {
   "cell_type": "code",
   "execution_count": 9,
   "outputs": [],
   "source": [
    "input_data, target_data = make_data(sentences)\n",
    "input_data, target_data = torch.LongTensor(input_data), torch.LongTensor(target_data)\n",
    "dataset = Data.TensorDataset(input_data, target_data)\n",
    "loader = Data.DataLoader(dataset, 2, True)"
   ],
   "metadata": {
    "collapsed": false,
    "ExecuteTime": {
     "end_time": "2023-06-01T14:32:54.357796900Z",
     "start_time": "2023-06-01T14:32:54.343000400Z"
    }
   }
  },
  {
   "cell_type": "code",
   "execution_count": 8,
   "outputs": [],
   "source": [
    "m = 2\n",
    "n_step = 2\n",
    "n_hidden = 10"
   ],
   "metadata": {
    "collapsed": false,
    "ExecuteTime": {
     "end_time": "2023-06-01T13:34:30.234864800Z",
     "start_time": "2023-06-01T13:34:30.229494800Z"
    }
   }
  },
  {
   "cell_type": "code",
   "execution_count": 10,
   "outputs": [],
   "source": [
    "class NNLM(nn.Module):\n",
    "    def __init__(self):\n",
    "        super(NNLM, self).__init__()\n",
    "        self.C = nn.Embedding(V, m)\n",
    "        self.H = nn.Parameter(torch.randn(n_step * m, n_hidden).type(dtype))\n",
    "        self.d = nn.Parameter(torch.randn(n_hidden).type(dtype))\n",
    "        self.b = nn.Parameter(torch.randn(V).type(dtype))\n",
    "        self.W = nn.Parameter(torch.randn(n_step * m, V).type(dtype))\n",
    "        self.U = nn.Parameter(torch.randn(n_hidden, V).type(dtype))\n",
    "\n",
    "    def forward(self, X):\n",
    "        X = self.C(X)  # [batch_size, n_step, m]\n",
    "        X = X.view(-1, n_step * m)\n",
    "        hidden_out = torch.tanh(self.d + torch.mm(X, self.H))\n",
    "        output = self.b + torch.mm(X, self.W) + torch.mm(hidden_out, self.U)\n",
    "        return output\n",
    "\n",
    "\n",
    "model = NNLM()\n",
    "optim = optimizer.Adam(model.parameters(), lr=1e-3)\n",
    "criterion = nn.CrossEntropyLoss()"
   ],
   "metadata": {
    "collapsed": false,
    "ExecuteTime": {
     "end_time": "2023-06-01T14:43:22.148479100Z",
     "start_time": "2023-06-01T14:43:22.136478200Z"
    }
   }
  },
  {
   "cell_type": "code",
   "execution_count": 13,
   "outputs": [
    {
     "name": "stdout",
     "output_type": "stream",
     "text": [
      "1000 2.3841855067985307e-07\n",
      "1000 2.3841855067985307e-07\n",
      "2000 0.0\n",
      "2000 0.0\n",
      "3000 0.0\n",
      "3000 0.0\n",
      "4000 0.0\n",
      "4000 0.0\n",
      "5000 0.0\n",
      "5000 0.0\n"
     ]
    }
   ],
   "source": [
    "for epoch in range(5000):\n",
    "    for batch_x, batch_y in loader:\n",
    "        pred = model(batch_x)\n",
    "        loss = criterion(pred, batch_y)\n",
    "\n",
    "        if (epoch + 1) % 1000 == 0:\n",
    "            print(epoch + 1, loss.item())\n",
    "\n",
    "        optim.zero_grad()\n",
    "        loss.backward()\n",
    "        optim.step()"
   ],
   "metadata": {
    "collapsed": false,
    "ExecuteTime": {
     "end_time": "2023-06-01T14:47:25.866116500Z",
     "start_time": "2023-06-01T14:47:18.168925300Z"
    }
   }
  },
  {
   "cell_type": "code",
   "execution_count": 19,
   "outputs": [
    {
     "name": "stdout",
     "output_type": "stream",
     "text": [
      "['cat', 'coffee', 'milk']\n"
     ]
    }
   ],
   "source": [
    "pred = model(input_data).max(1, keepdim=True)[1]\n",
    "print([idx2word[idx.item()] for idx in pred.squeeze()])"
   ],
   "metadata": {
    "collapsed": false,
    "ExecuteTime": {
     "end_time": "2023-06-01T14:50:16.072311100Z",
     "start_time": "2023-06-01T14:50:16.061313600Z"
    }
   }
  },
  {
   "cell_type": "code",
   "execution_count": null,
   "outputs": [],
   "source": [],
   "metadata": {
    "collapsed": false
   }
  }
 ],
 "metadata": {
  "kernelspec": {
   "display_name": "Python 3",
   "language": "python",
   "name": "python3"
  },
  "language_info": {
   "codemirror_mode": {
    "name": "ipython",
    "version": 2
   },
   "file_extension": ".py",
   "mimetype": "text/x-python",
   "name": "python",
   "nbconvert_exporter": "python",
   "pygments_lexer": "ipython2",
   "version": "2.7.6"
  }
 },
 "nbformat": 4,
 "nbformat_minor": 0
}
