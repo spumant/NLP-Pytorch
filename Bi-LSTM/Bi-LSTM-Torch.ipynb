{
 "cells": [
  {
   "cell_type": "code",
   "execution_count": 1,
   "metadata": {
    "collapsed": true,
    "ExecuteTime": {
     "end_time": "2023-06-03T15:21:32.410130700Z",
     "start_time": "2023-06-03T15:21:30.623118900Z"
    }
   },
   "outputs": [],
   "source": [
    "import torch\n",
    "import numpy as np\n",
    "import torch.nn as nn\n",
    "import torch.optim as optim\n",
    "import torch.utils.data as Data\n",
    "\n",
    "dtype = torch.FloatTensor"
   ]
  },
  {
   "cell_type": "code",
   "execution_count": 2,
   "outputs": [
    {
     "name": "stderr",
     "output_type": "stream",
     "text": [
      "C:\\Users\\boss\\AppData\\Local\\Temp\\ipykernel_13672\\388313711.py:24: UserWarning: Creating a tensor from a list of numpy.ndarrays is extremely slow. Please consider converting the list to a single numpy.ndarray with numpy.array() before converting to a tensor. (Triggered internally at C:\\actions-runner\\_work\\pytorch\\pytorch\\builder\\windows\\pytorch\\torch\\csrc\\utils\\tensor_new.cpp:248.)\n",
      "  return torch.Tensor(input_batch), torch.LongTensor(target_batch)\n"
     ]
    }
   ],
   "source": [
    "sentence = (\n",
    "    'GitHub Actions makes it easy to automate all your software workflows '\n",
    "    'from continuous integration and delivery to issue triage and more'\n",
    ")\n",
    "word2idx = {w: i for i, w in enumerate(list(set(sentence.split())))}\n",
    "idx2word = {i: w for i, w in enumerate(list(set(sentence.split())))}\n",
    "n_class = len(word2idx)\n",
    "max_len = len(sentence.split())\n",
    "n_hidden = 5\n",
    "\n",
    "\n",
    "def make_data(sentence):\n",
    "    input_batch = []\n",
    "    target_batch = []\n",
    "\n",
    "    words = sentence.split()\n",
    "    for i in range(max_len - 1):\n",
    "        input = [word2idx[n] for n in words[:(i + 1)]]\n",
    "        input = input + [0] * (max_len - len(input))\n",
    "        target = word2idx[words[i + 1]]\n",
    "        input_batch.append(np.eye(n_class)[input])\n",
    "        target_batch.append(target)\n",
    "\n",
    "    return torch.Tensor(input_batch), torch.LongTensor(target_batch)\n",
    "\n",
    "\n",
    "input_batch, target_batch = make_data(sentence)\n",
    "dataset = Data.TensorDataset(input_batch, target_batch)\n",
    "loader = Data.DataLoader(dataset, 16, True)"
   ],
   "metadata": {
    "collapsed": false,
    "ExecuteTime": {
     "end_time": "2023-06-03T16:00:19.640046600Z",
     "start_time": "2023-06-03T16:00:19.590398200Z"
    }
   }
  },
  {
   "cell_type": "code",
   "execution_count": 3,
   "outputs": [],
   "source": [
    "class BiLSTM(nn.Module):\n",
    "    def __init__(self):\n",
    "        super(BiLSTM, self).__init__()\n",
    "        self.lstm = nn.LSTM(input_size=n_class, hidden_size=n_hidden, bidirectional=True)\n",
    "        self.fc = nn.Linear(n_hidden * 2, n_class)\n",
    "\n",
    "    def forward(self, X):\n",
    "        # X: [batch_size, max_len, n_class]\n",
    "        batch_size = X.shape[0]\n",
    "        input = X.transpose(0, 1)  # input : [max_len, batch_size, n_class]\n",
    "\n",
    "        hidden_state = torch.randn(1 * 2, batch_size,\n",
    "                                   n_hidden)  # [num_layers(=1) * num_directions(=2), batch_size, n_hidden]\n",
    "        cell_state = torch.randn(1 * 2, batch_size,\n",
    "                                 n_hidden)  # [num_layers(=1) * num_directions(=2), batch_size, n_hidden]\n",
    "\n",
    "        outputs, (_, _) = self.lstm(input, (hidden_state, cell_state))\n",
    "        outputs = outputs[-1]  # [batch_size, n_hidden * 2]\n",
    "        model = self.fc(outputs)  # model : [batch_size, n_class]\n",
    "        return model\n",
    "\n",
    "\n",
    "model = BiLSTM()\n",
    "criterion = nn.CrossEntropyLoss()\n",
    "optimizer = optim.Adam(model.parameters(), lr=0.01)"
   ],
   "metadata": {
    "collapsed": false,
    "ExecuteTime": {
     "end_time": "2023-06-03T16:20:13.946492100Z",
     "start_time": "2023-06-03T16:20:13.923802100Z"
    }
   }
  },
  {
   "cell_type": "code",
   "execution_count": 4,
   "outputs": [
    {
     "name": "stdout",
     "output_type": "stream",
     "text": [
      "Epoch: 1000 cost = 0.502151\n",
      "Epoch: 1000 cost = 0.292523\n",
      "Epoch: 2000 cost = 0.384019\n",
      "Epoch: 2000 cost = 0.023474\n",
      "Epoch: 3000 cost = 1.617565\n",
      "Epoch: 3000 cost = 0.339231\n",
      "Epoch: 4000 cost = 0.210180\n",
      "Epoch: 4000 cost = 0.490827\n",
      "Epoch: 5000 cost = 0.141607\n",
      "Epoch: 5000 cost = 0.155279\n",
      "Epoch: 6000 cost = 0.036562\n",
      "Epoch: 6000 cost = 0.002418\n",
      "Epoch: 7000 cost = 0.015197\n",
      "Epoch: 7000 cost = 0.006828\n",
      "Epoch: 8000 cost = 0.006215\n",
      "Epoch: 8000 cost = 0.004603\n",
      "Epoch: 9000 cost = 0.003079\n",
      "Epoch: 9000 cost = 0.010708\n",
      "Epoch: 10000 cost = 0.049682\n",
      "Epoch: 10000 cost = 0.004516\n",
      "GitHub Actions makes it easy to automate all your software workflows from continuous integration and delivery to issue triage and more\n",
      "['Actions', 'makes', 'it', 'easy', 'to', 'automate', 'all', 'your', 'software', 'workflows', 'from', 'continuous', 'integration', 'and', 'delivery', 'to', 'issue', 'triage', 'and', 'more']\n"
     ]
    }
   ],
   "source": [
    "for epoch in range(10000):\n",
    "    for x, y in loader:\n",
    "        pred = model(x)\n",
    "        loss = criterion(pred, y)\n",
    "        if (epoch + 1) % 1000 == 0:\n",
    "            print('Epoch:', '%04d' % (epoch + 1), 'cost =', '{:.6f}'.format(loss))\n",
    "\n",
    "        optimizer.zero_grad()\n",
    "        loss.backward()\n",
    "        optimizer.step()\n",
    "\n",
    "predict = model(input_batch).data.max(1, keepdim=True)[1]\n",
    "print(sentence)\n",
    "print([idx2word[n.item()] for n in predict.squeeze()])"
   ],
   "metadata": {
    "collapsed": false,
    "ExecuteTime": {
     "end_time": "2023-06-03T16:23:55.999948700Z",
     "start_time": "2023-06-03T16:23:16.489653700Z"
    }
   }
  },
  {
   "cell_type": "code",
   "execution_count": null,
   "outputs": [],
   "source": [],
   "metadata": {
    "collapsed": false
   }
  }
 ],
 "metadata": {
  "kernelspec": {
   "display_name": "Python 3",
   "language": "python",
   "name": "python3"
  },
  "language_info": {
   "codemirror_mode": {
    "name": "ipython",
    "version": 2
   },
   "file_extension": ".py",
   "mimetype": "text/x-python",
   "name": "python",
   "nbconvert_exporter": "python",
   "pygments_lexer": "ipython2",
   "version": "2.7.6"
  }
 },
 "nbformat": 4,
 "nbformat_minor": 0
}
