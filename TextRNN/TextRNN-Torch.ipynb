{
 "cells": [
  {
   "cell_type": "code",
   "execution_count": 1,
   "metadata": {
    "collapsed": true,
    "ExecuteTime": {
     "end_time": "2023-06-03T12:00:42.233598800Z",
     "start_time": "2023-06-03T12:00:40.610602800Z"
    }
   },
   "outputs": [],
   "source": [
    "import torch\n",
    "import numpy as np\n",
    "import torch.nn as nn\n",
    "import torch.optim as optim\n",
    "import torch.utils.data as Data\n",
    "\n",
    "dtype = torch.FloatTensor"
   ]
  },
  {
   "cell_type": "code",
   "execution_count": 3,
   "outputs": [
    {
     "name": "stderr",
     "output_type": "stream",
     "text": [
      "C:\\Users\\boss\\AppData\\Local\\Temp\\ipykernel_5756\\3093046672.py:30: UserWarning: Creating a tensor from a list of numpy.ndarrays is extremely slow. Please consider converting the list to a single numpy.ndarray with numpy.array() before converting to a tensor. (Triggered internally at C:\\actions-runner\\_work\\pytorch\\pytorch\\builder\\windows\\pytorch\\torch\\csrc\\utils\\tensor_new.cpp:248.)\n",
      "  input_batch, target_batch = torch.Tensor(input_batch), torch.LongTensor(target_batch)\n"
     ]
    }
   ],
   "source": [
    "sentences = [\"i like dog\", \"i love coffee\", \"i hate milk\"]\n",
    "word_list = \" \".join(sentences).split()\n",
    "\n",
    "vocab = list(set(word_list))\n",
    "word2idx = {w: i for i, w in enumerate(vocab)}\n",
    "idx2word = {i: w for i, w in enumerate(vocab)}\n",
    "n_class = len(vocab)\n",
    "\n",
    "batch_size = 2\n",
    "n_step = 2\n",
    "n_hidden = 2\n",
    "\n",
    "\n",
    "def make_data(sentences):\n",
    "    input_batch = []\n",
    "    target_batch = []\n",
    "\n",
    "    for sen in sentences:\n",
    "        word = sen.split()\n",
    "        input = [word2idx[n] for n in word[:-1]]\n",
    "        target = word2idx[word[-1]]\n",
    "\n",
    "        input_batch.append(np.eye(n_class)[input])\n",
    "        target_batch.append(target)\n",
    "\n",
    "    return input_batch, target_batch\n",
    "\n",
    "\n",
    "input_batch, target_batch = make_data(sentences)\n",
    "input_batch, target_batch = torch.Tensor(input_batch), torch.LongTensor(target_batch)\n",
    "dataset = Data.TensorDataset(input_batch, target_batch)\n",
    "loader = Data.DataLoader(dataset, batch_size, True)"
   ],
   "metadata": {
    "collapsed": false,
    "ExecuteTime": {
     "end_time": "2023-06-03T13:20:43.480634900Z",
     "start_time": "2023-06-03T13:20:43.428849100Z"
    }
   }
  },
  {
   "cell_type": "code",
   "execution_count": 4,
   "outputs": [],
   "source": [
    "class TextRNN(nn.Module):\n",
    "    def __init__(self):\n",
    "        super(TextRNN, self).__init__()\n",
    "        self.rnn = nn.RNN(input_size=n_class, hidden_size=n_hidden)\n",
    "        # input_size 指的是每个单词用多少维的向量去编码\n",
    "        # hidden_size 指的是输出的维度是多少\n",
    "        self.fc = nn.Linear(n_hidden, n_class)\n",
    "\n",
    "    def forward(self, hidden, X):\n",
    "        # X: [batch_size, n_step, n_class]\n",
    "        X = X.transpose(0, 1)  # X : [n_step, batch_size, n_class]\n",
    "        out, hidden = self.rnn(X, hidden)\n",
    "        # out : [n_step, batch_size, num_directions(=1) * n_hidden]\n",
    "        # hidden : [num_layers(=1) * num_directions(=1), batch_size, n_hidden]\n",
    "        out = out[-1]  # [batch_size, num_directions(=1) * n_hidden]\n",
    "        model = self.fc(out)\n",
    "        return model\n",
    "\n",
    "\n",
    "model = TextRNN()\n",
    "criterion = nn.CrossEntropyLoss()\n",
    "optimizer = optim.Adam(model.parameters(), lr=0.001)"
   ],
   "metadata": {
    "collapsed": false,
    "ExecuteTime": {
     "end_time": "2023-06-03T14:29:05.720261800Z",
     "start_time": "2023-06-03T14:29:05.705262700Z"
    }
   }
  },
  {
   "cell_type": "code",
   "execution_count": 6,
   "outputs": [
    {
     "name": "stdout",
     "output_type": "stream",
     "text": [
      "Epoch: 1000 cost = 0.790806\n",
      "Epoch: 1000 cost = 0.207991\n",
      "Epoch: 2000 cost = 0.110075\n",
      "Epoch: 2000 cost = 0.142711\n",
      "Epoch: 3000 cost = 0.040230\n",
      "Epoch: 3000 cost = 0.021265\n",
      "Epoch: 4000 cost = 0.011444\n",
      "Epoch: 4000 cost = 0.013657\n",
      "Epoch: 5000 cost = 0.005312\n",
      "Epoch: 5000 cost = 0.003269\n"
     ]
    }
   ],
   "source": [
    "for epoch in range(5000):\n",
    "    for x, y in loader:\n",
    "        hidden = torch.zeros(1, x.shape[0], n_hidden)\n",
    "        pred = model(hidden, x)\n",
    "        loss = criterion(pred, y)\n",
    "\n",
    "        if (epoch + 1) % 1000 == 0:\n",
    "            print('Epoch:', '%04d' % (epoch + 1), 'cost =', '{:.6f}'.format(loss))\n",
    "\n",
    "        optimizer.zero_grad()\n",
    "        loss.backward()\n",
    "        optimizer.step()"
   ],
   "metadata": {
    "collapsed": false,
    "ExecuteTime": {
     "end_time": "2023-06-03T14:32:52.109963300Z",
     "start_time": "2023-06-03T14:32:42.589963400Z"
    }
   }
  },
  {
   "cell_type": "code",
   "execution_count": 15,
   "outputs": [],
   "source": [
    "input = [sen.split()[:2] for sen in sentences]\n",
    "hidden = torch.zeros(1, len(input), n_hidden)\n",
    "predict = model(hidden, input_batch).data.max(1, keepdim=True)[1]"
   ],
   "metadata": {
    "collapsed": false,
    "ExecuteTime": {
     "end_time": "2023-06-03T14:38:22.157284Z",
     "start_time": "2023-06-03T14:38:22.143288200Z"
    }
   }
  },
  {
   "cell_type": "code",
   "execution_count": 16,
   "outputs": [
    {
     "data": {
      "text/plain": "tensor([[5],\n        [6],\n        [3]])"
     },
     "execution_count": 16,
     "metadata": {},
     "output_type": "execute_result"
    }
   ],
   "source": [
    "predict"
   ],
   "metadata": {
    "collapsed": false,
    "ExecuteTime": {
     "end_time": "2023-06-03T14:38:22.500782600Z",
     "start_time": "2023-06-03T14:38:22.480783700Z"
    }
   }
  },
  {
   "cell_type": "code",
   "execution_count": 17,
   "outputs": [
    {
     "name": "stdout",
     "output_type": "stream",
     "text": [
      "[['i', 'like'], ['i', 'love'], ['i', 'hate']] -> ['dog', 'coffee', 'milk']\n"
     ]
    }
   ],
   "source": [
    "print([sen.split()[:2] for sen in sentences], '->', [idx2word[n.item()] for n in predict.squeeze()])"
   ],
   "metadata": {
    "collapsed": false,
    "ExecuteTime": {
     "end_time": "2023-06-03T14:38:23.712777600Z",
     "start_time": "2023-06-03T14:38:23.701781400Z"
    }
   }
  },
  {
   "cell_type": "code",
   "execution_count": null,
   "outputs": [],
   "source": [],
   "metadata": {
    "collapsed": false
   }
  }
 ],
 "metadata": {
  "kernelspec": {
   "display_name": "Python 3",
   "language": "python",
   "name": "python3"
  },
  "language_info": {
   "codemirror_mode": {
    "name": "ipython",
    "version": 2
   },
   "file_extension": ".py",
   "mimetype": "text/x-python",
   "name": "python",
   "nbconvert_exporter": "python",
   "pygments_lexer": "ipython2",
   "version": "2.7.6"
  }
 },
 "nbformat": 4,
 "nbformat_minor": 0
}
