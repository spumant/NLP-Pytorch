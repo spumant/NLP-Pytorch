{
 "cells": [
  {
   "cell_type": "code",
   "execution_count": 5,
   "metadata": {
    "collapsed": true,
    "ExecuteTime": {
     "end_time": "2023-06-03T10:18:53.137009600Z",
     "start_time": "2023-06-03T10:18:53.126008700Z"
    }
   },
   "outputs": [],
   "source": [
    "import torch\n",
    "import numpy as np\n",
    "import torch.nn as nn\n",
    "import torch.optim as optim\n",
    "import torch.utils.data as Data\n",
    "import torch.nn.functional as F\n",
    "\n",
    "dtype = torch.FloatTensor\n",
    "device = torch.device('cuda' if torch.cuda.is_available() else 'cpu')"
   ]
  },
  {
   "cell_type": "code",
   "execution_count": 2,
   "outputs": [],
   "source": [
    "sentences = [\"i love you\", \"he loves me\", \"she likes baseball\", \"i hate you\", \"sorry for that\", \"this is awful\"]\n",
    "labels = [1, 1, 1, 0, 0, 0]\n",
    "\n",
    "embedding_size = 2\n",
    "sequence_length = len(sentences[0])\n",
    "num_classes = len(set(labels))\n",
    "batch_size = 3\n",
    "\n",
    "word_list = \" \".join(sentences).split()\n",
    "vocab = list(set(word_list))\n",
    "word2idx = {w: i for i, w in enumerate(vocab)}\n",
    "vocab_size = len(vocab)"
   ],
   "metadata": {
    "collapsed": false,
    "ExecuteTime": {
     "end_time": "2023-06-03T09:44:23.926546700Z",
     "start_time": "2023-06-03T09:44:23.915547100Z"
    }
   }
  },
  {
   "cell_type": "code",
   "execution_count": 3,
   "outputs": [],
   "source": [
    "def make_data(sentences, labels):\n",
    "    inputs = []\n",
    "    for sen in sentences:\n",
    "        inputs.append([word2idx[n] for n in sen.split()])\n",
    "\n",
    "    targets = []\n",
    "    for out in labels:\n",
    "        targets.append(out)\n",
    "    return inputs, targets\n",
    "\n",
    "\n",
    "input_batch, target_batch = make_data(sentences, labels)\n",
    "input_batch, target_batch = torch.LongTensor(input_batch), torch.LongTensor(target_batch)\n",
    "\n",
    "dataset = Data.TensorDataset(input_batch, target_batch)\n",
    "loader = Data.DataLoader(dataset, batch_size, True)"
   ],
   "metadata": {
    "collapsed": false,
    "ExecuteTime": {
     "end_time": "2023-06-03T09:49:52.534940900Z",
     "start_time": "2023-06-03T09:49:52.512667300Z"
    }
   }
  },
  {
   "cell_type": "code",
   "execution_count": 7,
   "outputs": [],
   "source": [
    "class TextCNN(nn.Module):\n",
    "    def __init__(self):\n",
    "        super(TextCNN, self).__init__()\n",
    "        self.W = nn.Embedding(vocab_size, embedding_size)\n",
    "        output_channel = 3\n",
    "        self.conv = nn.Sequential(\n",
    "            # conv : [input_channel(=1), output_channel, (filter_height, filter_width), stride=1]\n",
    "            nn.Conv2d(1, output_channel, (2, embedding_size)),  # => [batch_size, output_channel, 2, 1]\n",
    "            nn.ReLU(),\n",
    "            # pool :\n",
    "            nn.MaxPool2d((2, 1))\n",
    "        )\n",
    "        self.fc = nn.Linear(output_channel, num_classes)\n",
    "\n",
    "    def forward(self, X):\n",
    "        batch_size = X.shape[0]\n",
    "        embedding_X = self.W(X)  # [batch_size, sequence_length, embedding_size]\n",
    "        embedding_X = embedding_X.unsqueeze(1)  # add channel(=1) [batch, channel(=1), sequence_length, embedding_size]\n",
    "        conved = self.conv(embedding_X)  # [batch_size, output_channel*1*1]\n",
    "        flatten = conved.view(batch_size, -1)\n",
    "        output = self.fc(flatten)\n",
    "        return output"
   ],
   "metadata": {
    "collapsed": false,
    "ExecuteTime": {
     "end_time": "2023-06-03T10:22:44.580374700Z",
     "start_time": "2023-06-03T10:22:44.553062300Z"
    }
   }
  },
  {
   "cell_type": "code",
   "execution_count": 8,
   "outputs": [
    {
     "name": "stdout",
     "output_type": "stream",
     "text": [
      "1000 : 0.001574610243551433\n",
      "1000 : 0.0018059533322229981\n",
      "2000 : 0.0002274533617310226\n",
      "2000 : 0.0002548251941334456\n",
      "3000 : 5.082110874354839e-05\n",
      "3000 : 6.786666199332103e-05\n",
      "4000 : 1.65698893397348e-05\n",
      "4000 : 1.7722237316775136e-05\n",
      "5000 : 5.443871486932039e-06\n",
      "5000 : 5.165716629562667e-06\n"
     ]
    }
   ],
   "source": [
    "model = TextCNN().to(device)\n",
    "criterion = nn.CrossEntropyLoss().to(device)\n",
    "optimizer = optim.Adam(model.parameters(), lr=1e-3)\n",
    "\n",
    "for epoch in range(5000):\n",
    "    for batch_x, batch_y in loader:\n",
    "        batch_x, batch_y = batch_x.to(device), batch_y.to(device)\n",
    "        pred = model(batch_x)\n",
    "        loss = criterion(pred, batch_y)\n",
    "        if (epoch + 1) % 1000 == 0:\n",
    "            print(epoch + 1, ':', loss.item())\n",
    "        optimizer.zero_grad()\n",
    "        loss.backward()\n",
    "        optimizer.step()"
   ],
   "metadata": {
    "collapsed": false,
    "ExecuteTime": {
     "end_time": "2023-06-03T10:23:00.700639800Z",
     "start_time": "2023-06-03T10:22:45.094008300Z"
    }
   }
  },
  {
   "cell_type": "code",
   "execution_count": 10,
   "outputs": [
    {
     "name": "stdout",
     "output_type": "stream",
     "text": [
      "i hate me is Bad Mean...\n"
     ]
    }
   ],
   "source": [
    "test_text = 'i hate me'\n",
    "tests = [[word2idx[n] for n in test_text.split()]]\n",
    "test_batch = torch.LongTensor(tests).to(device)\n",
    "\n",
    "model = model.eval()\n",
    "predict = model(test_batch).data.max(1, keepdim=True)[1]\n",
    "if predict[0][0] == 0:\n",
    "    print(test_text, \"is Bad Mean...\")\n",
    "else:\n",
    "    print(test_text, \"is Good Mean!!\")"
   ],
   "metadata": {
    "collapsed": false,
    "ExecuteTime": {
     "end_time": "2023-06-03T10:29:08.610144200Z",
     "start_time": "2023-06-03T10:29:08.564438800Z"
    }
   }
  },
  {
   "cell_type": "code",
   "execution_count": null,
   "outputs": [],
   "source": [],
   "metadata": {
    "collapsed": false
   }
  }
 ],
 "metadata": {
  "kernelspec": {
   "display_name": "Python 3",
   "language": "python",
   "name": "python3"
  },
  "language_info": {
   "codemirror_mode": {
    "name": "ipython",
    "version": 2
   },
   "file_extension": ".py",
   "mimetype": "text/x-python",
   "name": "python",
   "nbconvert_exporter": "python",
   "pygments_lexer": "ipython2",
   "version": "2.7.6"
  }
 },
 "nbformat": 4,
 "nbformat_minor": 0
}
